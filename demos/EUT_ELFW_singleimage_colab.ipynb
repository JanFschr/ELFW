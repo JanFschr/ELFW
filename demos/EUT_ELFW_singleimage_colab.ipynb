{
  "nbformat": 4,
  "nbformat_minor": 0,
  "metadata": {
    "colab": {
      "name": "EUT-ELFW-singleimage.ipynb",
      "version": "0.3.2",
      "provenance": [],
      "collapsed_sections": []
    },
    "kernelspec": {
      "name": "python2",
      "display_name": "Python 2"
    },
    "accelerator": "GPU"
  },
  "cells": [
    {
      "cell_type": "markdown",
      "metadata": {
        "id": "ApeuxnQx7qqC",
        "colab_type": "text"
      },
      "source": [
        "# Faces in the Wild with GCN Semantic Segmentation\n",
        "\n",
        "This code snippet runs the gcn semantic segmentation network on a single image.   \n",
        "*Eurecat 2019 - Rafael Redondo*"
      ]
    },
    {
      "cell_type": "code",
      "metadata": {
        "id": "FMObRUZ23T5y",
        "colab_type": "code",
        "colab": {}
      },
      "source": [
        "# Make sure your network has been trained with this architectural parameters\n",
        "target_size = 256\n",
        "num_classes = 7\n",
        "num_levels = 3\n",
        "\n",
        "# I/O\n",
        "checkpoint = \"./gcn-epoch_0480.pth\"\n",
        "input_file = \"./Bettina_Rheims_0001.jpg\"\n",
        "result_file = \"./Bettina_Rheims_0001_results.png\"\n",
        "\n",
        "# Colorize your labeled classes\n",
        "label_colors = [\n",
        "    (0, 0, 0),\n",
        "    (0, 255, 0),\n",
        "    (255, 0, 0),\n",
        "    (0, 255, 255),\n",
        "    (0, 0, 255),\n",
        "    (255, 0, 255),\n",
        "    (255, 255, 0)]"
      ],
      "execution_count": 0,
      "outputs": []
    },
    {
      "cell_type": "code",
      "metadata": {
        "id": "mcN49XD83cLD",
        "colab_type": "code",
        "outputId": "ccfe8d19-71f1-4d80-850f-8979bb70ded0",
        "colab": {
          "base_uri": "https://localhost:8080/",
          "height": 122
        }
      },
      "source": [
        "# Prepare Drive by following the instructions.\n",
        "from google.colab import drive\n",
        "drive.mount('/content/drive') "
      ],
      "execution_count": 0,
      "outputs": [
        {
          "output_type": "stream",
          "text": [
            "Go to this URL in a browser: https://accounts.google.com/o/oauth2/auth?client_id=947318989803-6bn6qk8qdgf4n4g3pfee6491hc0brc4i.apps.googleusercontent.com&redirect_uri=urn%3Aietf%3Awg%3Aoauth%3A2.0%3Aoob&scope=email%20https%3A%2F%2Fwww.googleapis.com%2Fauth%2Fdocs.test%20https%3A%2F%2Fwww.googleapis.com%2Fauth%2Fdrive%20https%3A%2F%2Fwww.googleapis.com%2Fauth%2Fdrive.photos.readonly%20https%3A%2F%2Fwww.googleapis.com%2Fauth%2Fpeopleapi.readonly&response_type=code\n",
            "\n",
            "Enter your authorization code:\n",
            "··········\n",
            "Mounted at /content/drive\n"
          ],
          "name": "stdout"
        }
      ]
    },
    {
      "cell_type": "code",
      "metadata": {
        "id": "8zBI6a_u4hDK",
        "colab_type": "code",
        "outputId": "6add5fe8-480b-44df-e073-bed07b963c18",
        "colab": {
          "base_uri": "https://localhost:8080/",
          "height": 34
        }
      },
      "source": [
        "# Go to Drive contents\n",
        "cd drive/My\\ Drive/ELFW"
      ],
      "execution_count": 0,
      "outputs": [
        {
          "output_type": "stream",
          "text": [
            "/content/drive/My Drive/ELFW\n"
          ],
          "name": "stdout"
        }
      ]
    },
    {
      "cell_type": "code",
      "metadata": {
        "id": "g7OEhZwp3dhc",
        "colab_type": "code",
        "colab": {}
      },
      "source": [
        "# Import\n",
        "import torch\n",
        "from torch.autograd import Variable\n",
        "from torchvision.transforms import ToTensor, Normalize\n",
        "import torch.nn.functional as F\n",
        "from models import GCN\n",
        "from PIL import Image\n",
        "import numpy as np\n",
        "\n",
        "# Model loading (Resnet may take a while to download)\n",
        "model = torch.nn.DataParallel(GCN(num_classes, num_levels))\n",
        "model.load_state_dict(torch.load(checkpoint))\n",
        "model.cuda()\n",
        "model.eval()\n",
        ";"
      ],
      "execution_count": 0,
      "outputs": []
    },
    {
      "cell_type": "code",
      "metadata": {
        "id": "BuyRbF3O3gKl",
        "colab_type": "code",
        "outputId": "141bf613-7284-43b7-ec19-0d62622933c5",
        "colab": {
          "base_uri": "https://localhost:8080/",
          "height": 51
        }
      },
      "source": [
        "# Pass forward\n",
        "image = Image.open(input_file).convert(\"RGB\")\n",
        "image = image.resize((target_size, target_size), Image.BILINEAR)\n",
        "img = ToTensor()(image)\n",
        "img = Normalize([.485, .456, .406], [.229, .224, .225])(img)\n",
        "img = Variable(img).cuda().unsqueeze(0)\n",
        "scores = model(img)  # first image in batch\n",
        "label_probs = F.log_softmax(scores[0], dim=0).cpu().detach().numpy()"
      ],
      "execution_count": 0,
      "outputs": [
        {
          "output_type": "stream",
          "text": [
            "/usr/local/lib/python2.7/dist-packages/torch/nn/functional.py:2622: UserWarning: nn.functional.upsample_bilinear is deprecated. Use nn.functional.interpolate instead.\n",
            "  warnings.warn(\"nn.functional.upsample_bilinear is deprecated. Use nn.functional.interpolate instead.\")\n"
          ],
          "name": "stderr"
        }
      ]
    },
    {
      "cell_type": "code",
      "metadata": {
        "id": "TmmVcJEE3hbW",
        "colab_type": "code",
        "outputId": "5063e617-c53f-4a69-d510-a0862ab511ce",
        "colab": {
          "base_uri": "https://localhost:8080/",
          "height": 34
        }
      },
      "source": [
        "# Composite\n",
        "rgb = np.zeros((target_size, target_size, 3))\n",
        "labels = np.argmax(label_probs, axis=0)\n",
        "\n",
        "for l in range(len(label_probs)):\n",
        "    indexes = labels == l\n",
        "    for c in range(3):\n",
        "        rgb[:, :, c][indexes] = label_colors[l][c]\n",
        "\n",
        "result = Image.fromarray(rgb.astype('uint8'))\n",
        "result.save(result_file)\n",
        "print('Results saved.')"
      ],
      "execution_count": 0,
      "outputs": [
        {
          "output_type": "stream",
          "text": [
            "Results saved.\n"
          ],
          "name": "stdout"
        }
      ]
    }
  ]
}